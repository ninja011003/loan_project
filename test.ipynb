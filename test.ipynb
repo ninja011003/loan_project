{
 "cells": [
  {
   "cell_type": "code",
   "execution_count": 25,
   "metadata": {},
   "outputs": [
    {
     "name": "stdout",
     "output_type": "stream",
     "text": [
      "Column Names Used for Training:\n",
      "['EXT_SOURCE_3', 'EXT_SOURCE_2', 'DAYS_BIRTH', 'DAYS_LAST_PHONE_CHANGE', 'REGION_RATING_CLIENT_W_CITY', 'REGION_RATING_CLIENT', 'NAME_CONTRACT_STATUS', 'NAME_INCOME_TYPE', 'DAYS_ID_PUBLISH']\n"
     ]
    }
   ],
   "source": [
    "import pickle\n",
    "import pandas as pd\n",
    "\n",
    "with open('model.pkl', 'rb') as model_file:\n",
    "    model = pickle.load(model_file)\n",
    "\n",
    "with open('col_names.pkl', 'rb') as col_file:\n",
    "    column_names = pickle.load(col_file)\n",
    "\n",
    "with open('lab_enc.pkl', 'rb') as enc_file:\n",
    "    label_encodings = pickle.load(enc_file)\n",
    "\n",
    "print(\"Column Names Used for Training:\")\n",
    "print(column_names)\n",
    "\n",
    "# sample_data = pd.DataFrame([your_sample_input], columns=column_names)\n",
    "# predictions = model.predict(sample_data)\n",
    "# print(\"Predictions:\", predictions)\n"
   ]
  },
  {
   "cell_type": "code",
   "execution_count": 26,
   "metadata": {},
   "outputs": [],
   "source": [
    "\n",
    "with open('col_names.pkl', 'rb') as col_file:\n",
    "    column_names = pickle.load(col_file)\n",
    "\n",
    "\n",
    "\n",
    "with open('lab_enc.pkl', 'rb') as enc_file:\n",
    "    label_encodings = pickle.load(enc_file)\n",
    "\n",
    "\n",
    "\n",
    "def encode_columns(data, cols_enc, encodings):\n",
    "    for col in cols_enc:\n",
    "        if col in encodings:\n",
    "            mapping = {category: code for code, category in enumerate(encodings[col])}\n",
    "            data[col] = data[col].map(mapping)\n",
    "    return data\n",
    "\n",
    "\n",
    "# df_encoded = encode_columns(df, column_names, label_encodings)\n",
    "\n",
    "\n",
    "\n"
   ]
  },
  {
   "cell_type": "code",
   "execution_count": 27,
   "metadata": {},
   "outputs": [],
   "source": [
    "df = pd.read_csv('loan_data.csv')"
   ]
  },
  {
   "cell_type": "code",
   "execution_count": null,
   "metadata": {},
   "outputs": [],
   "source": []
  },
  {
   "cell_type": "code",
   "execution_count": 28,
   "metadata": {},
   "outputs": [],
   "source": [
    "column_names.append('TARGET')"
   ]
  },
  {
   "cell_type": "code",
   "execution_count": null,
   "metadata": {},
   "outputs": [],
   "source": [
    "a = df[column_names].dropna()\n",
    "# a.to_csv('test.csv', index=False)\n",
    "a = encode_columns(a, column_names, label_encodings)"
   ]
  },
  {
   "cell_type": "code",
   "execution_count": null,
   "metadata": {},
   "outputs": [],
   "source": []
  },
  {
   "cell_type": "code",
   "execution_count": 30,
   "metadata": {},
   "outputs": [
    {
     "data": {
      "text/html": [
       "<div>\n",
       "<style scoped>\n",
       "    .dataframe tbody tr th:only-of-type {\n",
       "        vertical-align: middle;\n",
       "    }\n",
       "\n",
       "    .dataframe tbody tr th {\n",
       "        vertical-align: top;\n",
       "    }\n",
       "\n",
       "    .dataframe thead th {\n",
       "        text-align: right;\n",
       "    }\n",
       "</style>\n",
       "<table border=\"1\" class=\"dataframe\">\n",
       "  <thead>\n",
       "    <tr style=\"text-align: right;\">\n",
       "      <th></th>\n",
       "      <th>EXT_SOURCE_3</th>\n",
       "      <th>EXT_SOURCE_2</th>\n",
       "      <th>DAYS_BIRTH</th>\n",
       "      <th>DAYS_LAST_PHONE_CHANGE</th>\n",
       "      <th>REGION_RATING_CLIENT_W_CITY</th>\n",
       "      <th>REGION_RATING_CLIENT</th>\n",
       "      <th>NAME_CONTRACT_STATUS</th>\n",
       "      <th>NAME_INCOME_TYPE</th>\n",
       "      <th>DAYS_ID_PUBLISH</th>\n",
       "      <th>TARGET</th>\n",
       "    </tr>\n",
       "  </thead>\n",
       "  <tbody>\n",
       "    <tr>\n",
       "      <th>0</th>\n",
       "      <td>0.139376</td>\n",
       "      <td>0.262949</td>\n",
       "      <td>-9461</td>\n",
       "      <td>-1134.0</td>\n",
       "      <td>2</td>\n",
       "      <td>2</td>\n",
       "      <td>0</td>\n",
       "      <td>5</td>\n",
       "      <td>-2120</td>\n",
       "      <td>1</td>\n",
       "    </tr>\n",
       "    <tr>\n",
       "      <th>4</th>\n",
       "      <td>0.729567</td>\n",
       "      <td>0.555912</td>\n",
       "      <td>-19046</td>\n",
       "      <td>-815.0</td>\n",
       "      <td>2</td>\n",
       "      <td>2</td>\n",
       "      <td>0</td>\n",
       "      <td>5</td>\n",
       "      <td>-2531</td>\n",
       "      <td>0</td>\n",
       "    </tr>\n",
       "    <tr>\n",
       "      <th>20</th>\n",
       "      <td>0.621226</td>\n",
       "      <td>0.354225</td>\n",
       "      <td>-16941</td>\n",
       "      <td>-2536.0</td>\n",
       "      <td>2</td>\n",
       "      <td>2</td>\n",
       "      <td>0</td>\n",
       "      <td>2</td>\n",
       "      <td>-477</td>\n",
       "      <td>0</td>\n",
       "    </tr>\n",
       "    <tr>\n",
       "      <th>21</th>\n",
       "      <td>0.621226</td>\n",
       "      <td>0.354225</td>\n",
       "      <td>-16941</td>\n",
       "      <td>-2536.0</td>\n",
       "      <td>2</td>\n",
       "      <td>2</td>\n",
       "      <td>1</td>\n",
       "      <td>2</td>\n",
       "      <td>-477</td>\n",
       "      <td>0</td>\n",
       "    </tr>\n",
       "    <tr>\n",
       "      <th>22</th>\n",
       "      <td>0.621226</td>\n",
       "      <td>0.354225</td>\n",
       "      <td>-16941</td>\n",
       "      <td>-2536.0</td>\n",
       "      <td>2</td>\n",
       "      <td>2</td>\n",
       "      <td>0</td>\n",
       "      <td>2</td>\n",
       "      <td>-477</td>\n",
       "      <td>0</td>\n",
       "    </tr>\n",
       "  </tbody>\n",
       "</table>\n",
       "</div>"
      ],
      "text/plain": [
       "    EXT_SOURCE_3  EXT_SOURCE_2  DAYS_BIRTH  DAYS_LAST_PHONE_CHANGE  \\\n",
       "0       0.139376      0.262949       -9461                 -1134.0   \n",
       "4       0.729567      0.555912      -19046                  -815.0   \n",
       "20      0.621226      0.354225      -16941                 -2536.0   \n",
       "21      0.621226      0.354225      -16941                 -2536.0   \n",
       "22      0.621226      0.354225      -16941                 -2536.0   \n",
       "\n",
       "    REGION_RATING_CLIENT_W_CITY  REGION_RATING_CLIENT  NAME_CONTRACT_STATUS  \\\n",
       "0                             2                     2                     0   \n",
       "4                             2                     2                     0   \n",
       "20                            2                     2                     0   \n",
       "21                            2                     2                     1   \n",
       "22                            2                     2                     0   \n",
       "\n",
       "    NAME_INCOME_TYPE  DAYS_ID_PUBLISH  TARGET  \n",
       "0                  5            -2120       1  \n",
       "4                  5            -2531       0  \n",
       "20                 2             -477       0  \n",
       "21                 2             -477       0  \n",
       "22                 2             -477       0  "
      ]
     },
     "execution_count": 30,
     "metadata": {},
     "output_type": "execute_result"
    }
   ],
   "source": [
    "a"
   ]
  },
  {
   "cell_type": "code",
   "execution_count": 31,
   "metadata": {},
   "outputs": [],
   "source": [
    "with open('model.pkl', 'rb') as model_file:\n",
    "    model = pickle.load(model_file)"
   ]
  },
  {
   "cell_type": "code",
   "execution_count": null,
   "metadata": {},
   "outputs": [],
   "source": []
  },
  {
   "cell_type": "code",
   "execution_count": 32,
   "metadata": {},
   "outputs": [],
   "source": [
    "pred = model.predict(a.drop('TARGET', axis=1))"
   ]
  },
  {
   "cell_type": "code",
   "execution_count": 33,
   "metadata": {},
   "outputs": [
    {
     "data": {
      "text/plain": [
       "array([1, 0, 0, 0, 0], dtype=int64)"
      ]
     },
     "execution_count": 33,
     "metadata": {},
     "output_type": "execute_result"
    }
   ],
   "source": [
    "pred"
   ]
  },
  {
   "cell_type": "code",
   "execution_count": 34,
   "metadata": {},
   "outputs": [],
   "source": [
    "def compute_result(json):\n",
    "    with open('col_names.pkl', 'rb') as col_file:\n",
    "        column_names = pickle.load(col_file)\n",
    "\n",
    "    with open('lab_enc.pkl', 'rb') as enc_file:\n",
    "        label_encodings = pickle.load(enc_file)\n",
    "\n",
    "    with open('model.pkl', 'rb') as model_file:\n",
    "        model = pickle.load(model_file)\n",
    "\n",
    "    def encode_columns(data, cols_enc, encodings):\n",
    "        for col in cols_enc:\n",
    "            if col in encodings:\n",
    "                mapping = {category: code for code, category in enumerate(encodings[col])}\n",
    "                data[col] = data[col].map(mapping)\n",
    "        return data\n",
    "    \n",
    "    return model.predict(encode_columns(pd.DataFrame(json), column_names, label_encodings))\n",
    "\n"
   ]
  },
  {
   "cell_type": "code",
   "execution_count": 36,
   "metadata": {},
   "outputs": [
    {
     "data": {
      "text/plain": [
       "SK_ID_CURR                        0\n",
       "TARGET                            0\n",
       "NAME_CONTRACT_TYPE_x              0\n",
       "CODE_GENDER                       0\n",
       "FLAG_OWN_CAR                      0\n",
       "                              ...  \n",
       "DAYS_FIRST_DUE               561106\n",
       "DAYS_LAST_DUE_1ST_VERSION    561106\n",
       "DAYS_LAST_DUE                561106\n",
       "DAYS_TERMINATION             561106\n",
       "NFLAG_INSURED_ON_APPROVAL    561106\n",
       "Length: 158, dtype: int64"
      ]
     },
     "execution_count": 36,
     "metadata": {},
     "output_type": "execute_result"
    }
   ],
   "source": [
    "df.isnull().sum()"
   ]
  },
  {
   "cell_type": "code",
   "execution_count": 38,
   "metadata": {},
   "outputs": [],
   "source": [
    "df.head(5).to_csv('s1.csv', index=False)"
   ]
  },
  {
   "cell_type": "code",
   "execution_count": 40,
   "metadata": {},
   "outputs": [],
   "source": [
    "df.describe().to_csv('s2.csv', index=True)"
   ]
  },
  {
   "cell_type": "code",
   "execution_count": 41,
   "metadata": {},
   "outputs": [],
   "source": [
    "df.isna().sum().to_csv('s3.csv', index=True)"
   ]
  }
 ],
 "metadata": {
  "kernelspec": {
   "display_name": "base",
   "language": "python",
   "name": "python3"
  },
  "language_info": {
   "codemirror_mode": {
    "name": "ipython",
    "version": 3
   },
   "file_extension": ".py",
   "mimetype": "text/x-python",
   "name": "python",
   "nbconvert_exporter": "python",
   "pygments_lexer": "ipython3",
   "version": "3.11.4"
  }
 },
 "nbformat": 4,
 "nbformat_minor": 2
}
